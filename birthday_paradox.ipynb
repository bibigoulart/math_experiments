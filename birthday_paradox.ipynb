{
 "cells": [
  {
   "cell_type": "code",
   "execution_count": 3,
   "metadata": {},
   "outputs": [],
   "source": [
    "import random\n",
    "import numpy as np"
   ]
  },
  {
   "cell_type": "code",
   "execution_count": null,
   "metadata": {},
   "outputs": [],
   "source": []
  },
  {
   "cell_type": "code",
   "execution_count": 14,
   "metadata": {},
   "outputs": [],
   "source": [
    "def generate_n_birthdays(n):\n",
    "    bd_list = []\n",
    "    for i in range(n):\n",
    "        bd_list.append(random.randint(1,365))\n",
    "        \n",
    "    return bd_list"
   ]
  },
  {
   "cell_type": "code",
   "execution_count": 41,
   "metadata": {},
   "outputs": [],
   "source": [
    "def check_if_two_bd_lists_share_bd(bd_list_1, bd_list_2):\n",
    "    for bd in bd_list_1:\n",
    "        if bd in bd_list_2:\n",
    "            return True\n",
    "        \n",
    "    return False"
   ]
  },
  {
   "cell_type": "code",
   "execution_count": 42,
   "metadata": {},
   "outputs": [],
   "source": [
    "def create_random_birthday_experiment(n1, n2, use_same_list=False):\n",
    "    bd_list_1 = generate_n_birthdays(n1)\n",
    "    \n",
    "    if use_same_list:\n",
    "        for i,bd in enumerate(bd_list_1):\n",
    "            ind_bd = [bd]\n",
    "            rest_of_list = [b for j,b in enumerate(bd_list_1) if j != i]\n",
    "            if check_if_room_has_person_with_same_birthday(ind_bd, rest_of_list):\n",
    "                return True\n",
    "        return False\n",
    "\n",
    "    bd_list_2 = generate_n_birthdays(n2)\n",
    "    return check_if_room_has_person_with_same_birthday(bd_list_1, bd_list_2)"
   ]
  },
  {
   "cell_type": "code",
   "execution_count": 43,
   "metadata": {},
   "outputs": [],
   "source": [
    "def get_probability_from_lln(m, n1, n2, use_same_list=False):\n",
    "    exp_result_list = []\n",
    "    for i in range(m):\n",
    "        exp_result = create_random_birthday_experiment(n1, n2, use_same_list=use_same_list)\n",
    "        exp_result_list.append(exp_result)\n",
    "        \n",
    "    return 100*exp_result_list.count(True)/len(exp_result_list)"
   ]
  },
  {
   "cell_type": "code",
   "execution_count": 61,
   "metadata": {},
   "outputs": [
    {
     "data": {
      "text/plain": [
       "33"
      ]
     },
     "execution_count": 61,
     "metadata": {},
     "output_type": "execute_result"
    }
   ],
   "source": [
    "get_probability_from_lln(2000, 1, 150, use_same_list=False)"
   ]
  },
  {
   "cell_type": "code",
   "execution_count": 56,
   "metadata": {},
   "outputs": [
    {
     "name": "stdout",
     "output_type": "stream",
     "text": [
      "[1, 3, 4]\n",
      "None\n"
     ]
    }
   ],
   "source": [
    "a = [1,2,3,4]\n",
    "b = a.remove(2)\n",
    "print a\n",
    "print b"
   ]
  },
  {
   "cell_type": "code",
   "execution_count": null,
   "metadata": {},
   "outputs": [],
   "source": []
  }
 ],
 "metadata": {
  "kernelspec": {
   "display_name": "Python 2",
   "language": "python",
   "name": "python2"
  },
  "language_info": {
   "codemirror_mode": {
    "name": "ipython",
    "version": 2
   },
   "file_extension": ".py",
   "mimetype": "text/x-python",
   "name": "python",
   "nbconvert_exporter": "python",
   "pygments_lexer": "ipython2",
   "version": "2.7.13"
  }
 },
 "nbformat": 4,
 "nbformat_minor": 2
}
